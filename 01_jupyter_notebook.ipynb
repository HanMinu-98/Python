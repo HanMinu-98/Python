{
 "cells": [
  {
   "cell_type": "markdown",
   "id": "bd1b016b",
   "metadata": {},
   "source": [
    "### Jupyter Notebook\n",
    "- mode\n",
    "    - 명령모드(esc) : 셀을 수정할때 사용\n",
    "    - 편집모드(enter) : 셀안의 내용을 수정할때 사용\n",
    "- style\n",
    "    -markdown(명령모드 + m) : 셀안에 설명을 작성할때 사용\n",
    "    -code(명령모드 + y) : 파이썬 코드를 작성할때 사용\n",
    "- 단축키\n",
    "    - 셀 실행: shift + enter\n",
    "    - 셀 삭제: (명령모드) x\n",
    "    - 되돌리기: (명령모드) z\n",
    "    - 셀 생성: (명령모드) a(뮈), b(아래)"
   ]
  },
  {
   "cell_type": "code",
   "execution_count": 3,
   "id": "d0df189c",
   "metadata": {},
   "outputs": [
    {
     "data": {
      "text/plain": [
       "3"
      ]
     },
     "execution_count": 3,
     "metadata": {},
     "output_type": "execute_result"
    }
   ],
   "source": [
    "1+2"
   ]
  },
  {
   "cell_type": "markdown",
   "id": "5dc09f2e",
   "metadata": {},
   "source": [
    "### Magic Command\n",
    "- 셀 내부에서 특별하게 동작하는 커맨드\n",
    "- % : 한줄의 magic command를 동작\n",
    "- %% : 셀단위의 magic command를 동작\n",
    "- 주요 magic command\n",
    "    - pwd : 현재 주피터 노트북 파일의 경로\n",
    "    - ls : 현재 디렉토리의 파일 리스트\n",
    "    - whos : 현재 선언된 변수를 출력\n",
    "    - reset : 현재 선언된 변수를 모두 삭제"
   ]
  },
  {
   "cell_type": "code",
   "execution_count": 4,
   "id": "de2b7cf4",
   "metadata": {},
   "outputs": [
    {
     "data": {
      "text/plain": [
       "'D:\\\\Archive\\\\Data Science\\\\Jupyter Notebook\\\\Untitled Folder'"
      ]
     },
     "execution_count": 4,
     "metadata": {},
     "output_type": "execute_result"
    }
   ],
   "source": [
    "%pwd"
   ]
  },
  {
   "cell_type": "code",
   "execution_count": 5,
   "id": "729ae24e",
   "metadata": {},
   "outputs": [],
   "source": [
    "a = 1"
   ]
  },
  {
   "cell_type": "code",
   "execution_count": 6,
   "id": "46c07fad",
   "metadata": {},
   "outputs": [
    {
     "name": "stdout",
     "output_type": "stream",
     "text": [
      "Variable   Type    Data/Info\n",
      "----------------------------\n",
      "a          int     1\n"
     ]
    }
   ],
   "source": [
    "%whos"
   ]
  },
  {
   "cell_type": "code",
   "execution_count": 7,
   "id": "df23032c",
   "metadata": {},
   "outputs": [
    {
     "name": "stdout",
     "output_type": "stream",
     "text": [
      "Once deleted, variables cannot be recovered. Proceed (y/[n])? y\n"
     ]
    }
   ],
   "source": [
    "%reset"
   ]
  },
  {
   "cell_type": "code",
   "execution_count": 15,
   "id": "40209380",
   "metadata": {},
   "outputs": [
    {
     "name": "stdout",
     "output_type": "stream",
     "text": [
      "Interactive namespace is empty.\n"
     ]
    }
   ],
   "source": [
    "%whos"
   ]
  },
  {
   "cell_type": "markdown",
   "id": "fa7c884b",
   "metadata": {},
   "source": [
    "#### Shell Command\n",
    "- 주피터 노트북을 실행 쉘 환경의 명령을 사용\n",
    "- 주요 명령어 앞에 !를 붙여서 실행\n",
    "    - ls, cat, echo ..."
   ]
  },
  {
   "cell_type": "code",
   "execution_count": 16,
   "id": "5deaacec",
   "metadata": {},
   "outputs": [
    {
     "name": "stdout",
     "output_type": "stream",
     "text": [
      "python\n"
     ]
    }
   ],
   "source": [
    "!echo python"
   ]
  },
  {
   "cell_type": "code",
   "execution_count": 13,
   "id": "a5c30f6b",
   "metadata": {},
   "outputs": [
    {
     "name": "stdout",
     "output_type": "stream",
     "text": [
      "01_jupyter_notebook.ipynb\n"
     ]
    }
   ],
   "source": [
    "!ls"
   ]
  },
  {
   "cell_type": "code",
   "execution_count": null,
   "id": "338733ec",
   "metadata": {},
   "outputs": [],
   "source": []
  }
 ],
 "metadata": {
  "kernelspec": {
   "display_name": "Python 3",
   "language": "python",
   "name": "python3"
  },
  "language_info": {
   "codemirror_mode": {
    "name": "ipython",
    "version": 3
   },
   "file_extension": ".py",
   "mimetype": "text/x-python",
   "name": "python",
   "nbconvert_exporter": "python",
   "pygments_lexer": "ipython3",
   "version": "3.8.8"
  }
 },
 "nbformat": 4,
 "nbformat_minor": 5
}
