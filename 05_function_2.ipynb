{
 "cells": [
  {
   "cell_type": "markdown",
   "id": "8a4c064a",
   "metadata": {},
   "source": [
    "### Summary\n",
    "- 조건문\n",
    "    - if, else, elif\n",
    "    - 특정 조건에 따라서 코드를 실행하고 싶을 때 사용\n",
    "- 반복문\n",
    "    - while, for\n",
    "    - 특정 코드를 반복적으로 실행하고 싶을 때 사용\n",
    "    - continue, break"
   ]
  },
  {
   "cell_type": "markdown",
   "id": "4712dccc",
   "metadata": {},
   "source": [
    "#### 복습 문제1 : 문장을 입력받아서 문법에 맞도록 결과를 출력하는 코드 작성\n",
    "- 마지막 문자는 . 이 있을수도 있고 없을수도 있다.\n",
    "- 논리적인 문제해결 순서(Algorithm) -> 코드로 변경\n",
    "- Python IS the best Language. / Python IS the best Language\n",
    "- 결과값 : Python is the best language."
   ]
  },
  {
   "cell_type": "code",
   "execution_count": 2,
   "id": "9e06f54c",
   "metadata": {},
   "outputs": [
    {
     "name": "stdout",
     "output_type": "stream",
     "text": [
      "input sentence :Python IS the best Language\n"
     ]
    },
    {
     "data": {
      "text/plain": [
       "'Python is the best language.'"
      ]
     },
     "execution_count": 2,
     "metadata": {},
     "output_type": "execute_result"
    }
   ],
   "source": [
    "# 1. 문자열 입력 받기\n",
    "sentence = input(\"input sentence :\")\n",
    "\n",
    "# 2. 모두 소문자로 변경\n",
    "result = sentence.lower() # .lower()는 return이 있는 함수\n",
    "\n",
    "# 3. 가장 앞글자를 대문자로 변경\n",
    "result = result[0].upper() + result[1:]\n",
    "\n",
    "# 4. 마지막 문자가 . 인지 확인하여 . 이 아니면 . 를 추가\n",
    "if result[-1] != \".\":\n",
    "    result += \".\"\n",
    "\n",
    "result"
   ]
  },
  {
   "cell_type": "markdown",
   "id": "027f2fd5",
   "metadata": {},
   "source": [
    "#### 복습 문제2 : 6자리의 로또번호를 생성하는 코드를 작성\n",
    "- 6자리의 번호는 중복x\n",
    "- 문자열, 숫자, 리스트\n",
    "- while, not in, in, list.append(), break, len(), list.sort() 사용\n",
    "- 문제가 복잡하면, 간단한 기능부터 구현하고 업데이트를 하는 방법으로 해결\n",
    "- 랜덤한 숫자 6개 출력 -> 숫자가 중복되지 않는 코드를 추가"
   ]
  },
  {
   "cell_type": "code",
   "execution_count": 113,
   "id": "3fccfbd4",
   "metadata": {},
   "outputs": [
    {
     "data": {
      "text/plain": [
       "[5, 12, 23, 28, 32, 34]"
      ]
     },
     "execution_count": 113,
     "metadata": {},
     "output_type": "execute_result"
    }
   ],
   "source": [
    "import random\n",
    "\n",
    "# random.randint(1, 45)\n",
    "\n",
    "lotto = []\n",
    "\n",
    "# 랜덤한 숫자 6개를 while문을 사용하여 작성\n",
    "while True:\n",
    "    number = random.randint(1, 45)\n",
    "    \n",
    "    # 숫자를 추가할 때 lotto 리스트에 중복되는 숫자가 없으면 추가\n",
    "    if number not in lotto:\n",
    "        lotto.append(number)\n",
    "    \n",
    "    if len(lotto) >= 6:\n",
    "        lotto.sort()\n",
    "        break\n",
    "\n",
    "        \n",
    "lotto"
   ]
  },
  {
   "cell_type": "markdown",
   "id": "b9410d59",
   "metadata": {},
   "source": [
    "### 함수 1 Summary\n",
    "- 중복되는 코들르 묶어서 효율적으로 코드를 작성하기 위해 사용\n",
    "- 기본함수 : 선언(def), 호출(func_name())\n",
    "- argument, parameter, keyword argument, default parameter\n",
    "- return\n",
    "- `*args`, `**kwargs`"
   ]
  },
  {
   "cell_type": "markdown",
   "id": "aaa7c7fe",
   "metadata": {},
   "source": [
    "## 함수 2\n",
    "- docstring (shift + tab)\n",
    "- scope\n",
    "- inner function\n",
    "- lambda function\n",
    "- map, filter, reduce\n",
    "- decorlator"
   ]
  },
  {
   "cell_type": "markdown",
   "id": "29c4387b",
   "metadata": {},
   "source": [
    "### 1. Docstring\n",
    "- 함수의 설명을 작성"
   ]
  },
  {
   "cell_type": "code",
   "execution_count": 115,
   "id": "1c484d57",
   "metadata": {},
   "outputs": [],
   "source": [
    "def echo(msg):\n",
    "    \"echo print msg\" # Docstring 1줄 작성 : \"\" 사용\n",
    "    print(msg)"
   ]
  },
  {
   "cell_type": "code",
   "execution_count": 116,
   "id": "22a2ddb2",
   "metadata": {},
   "outputs": [
    {
     "data": {
      "text/plain": [
       "<function __main__.echo(msg)>"
      ]
     },
     "execution_count": 116,
     "metadata": {},
     "output_type": "execute_result"
    }
   ],
   "source": [
    "echo"
   ]
  },
  {
   "cell_type": "code",
   "execution_count": 117,
   "id": "64e9887f",
   "metadata": {},
   "outputs": [],
   "source": [
    "def echo(msg):\n",
    "    \"\"\"\n",
    "    echo func return its input argument\n",
    "    The operation is:\n",
    "        1. print msg\n",
    "        2. return msg parameter\n",
    "    param : msg : str\n",
    "    return : str\n",
    "    \"\"\"\n",
    "    print(msg)\n",
    "    return msg"
   ]
  },
  {
   "cell_type": "code",
   "execution_count": 118,
   "id": "80fba88b",
   "metadata": {},
   "outputs": [
    {
     "data": {
      "text/plain": [
       "<function __main__.echo(msg)>"
      ]
     },
     "execution_count": 118,
     "metadata": {},
     "output_type": "execute_result"
    }
   ],
   "source": [
    "echo # shift + tab"
   ]
  },
  {
   "cell_type": "code",
   "execution_count": 126,
   "id": "6f45afeb",
   "metadata": {},
   "outputs": [],
   "source": [
    "# docstring 띄움 : 함수명 뒤에 ? 1개\n",
    "echo?"
   ]
  },
  {
   "cell_type": "code",
   "execution_count": 127,
   "id": "ac181fbb",
   "metadata": {},
   "outputs": [],
   "source": [
    "# source code 띄움 : 함수명 뒤에 ? 2개\n",
    "echo??"
   ]
  },
  {
   "cell_type": "code",
   "execution_count": 129,
   "id": "eddeeb63",
   "metadata": {},
   "outputs": [
    {
     "name": "stdout",
     "output_type": "stream",
     "text": [
      "Help on function echo in module __main__:\n",
      "\n",
      "echo(msg)\n",
      "    echo func return its input argument\n",
      "    The operation is:\n",
      "        1. print msg\n",
      "        2. return msg parameter\n",
      "    param : msg : str\n",
      "    return : str\n",
      "\n"
     ]
    }
   ],
   "source": [
    "# 함수의 docstring부분 출력 : help(function_name)\n",
    "help(echo)"
   ]
  },
  {
   "cell_type": "code",
   "execution_count": 130,
   "id": "33635bfb",
   "metadata": {},
   "outputs": [
    {
     "name": "stdout",
     "output_type": "stream",
     "text": [
      "\n",
      "    echo func return its input argument\n",
      "    The operation is:\n",
      "        1. print msg\n",
      "        2. return msg parameter\n",
      "    param : msg : str\n",
      "    return : str\n",
      "    \n"
     ]
    }
   ],
   "source": [
    "# 함수의 docstring부분 출력2 : print(함수명.__doc__)\n",
    "print(echo.__doc__)"
   ]
  },
  {
   "cell_type": "markdown",
   "id": "b57b9eec",
   "metadata": {},
   "source": [
    "### 2. Scope 범위\n",
    "- 함수 안에서 선언되는 (local)변수와, 함수 밖에서 선언되는 (global)변수의 범위는 다르다\n",
    "- global(전역), local(지역)\n",
    "- 되도록이면 로컬 변수를 사용하는 것이 낫다"
   ]
  },
  {
   "cell_type": "code",
   "execution_count": 131,
   "id": "70539cb1",
   "metadata": {},
   "outputs": [
    {
     "name": "stdout",
     "output_type": "stream",
     "text": [
      "10\n"
     ]
    }
   ],
   "source": [
    "# global\n",
    "\n",
    "gv = 10\n",
    "\n",
    "def echo():\n",
    "    print(gv)\n",
    "    \n",
    "echo()"
   ]
  },
  {
   "cell_type": "code",
   "execution_count": 132,
   "id": "122e71b9",
   "metadata": {},
   "outputs": [
    {
     "name": "stdout",
     "output_type": "stream",
     "text": [
      "100\n"
     ]
    }
   ],
   "source": [
    "gv = 10 # 전역에서 선언된 변수\n",
    "\n",
    "def echo():\n",
    "    gv = 100 # 지역에서 선언된 변수\n",
    "    print(gv)\n",
    "    \n",
    "echo()"
   ]
  },
  {
   "cell_type": "code",
   "execution_count": 133,
   "id": "a81c6d94",
   "metadata": {},
   "outputs": [
    {
     "data": {
      "text/plain": [
       "10"
      ]
     },
     "execution_count": 133,
     "metadata": {},
     "output_type": "execute_result"
    }
   ],
   "source": [
    "gv"
   ]
  },
  {
   "cell_type": "code",
   "execution_count": 135,
   "id": "2c1a6a2d",
   "metadata": {},
   "outputs": [
    {
     "name": "stdout",
     "output_type": "stream",
     "text": [
      "100\n"
     ]
    },
    {
     "data": {
      "text/plain": [
       "100"
      ]
     },
     "execution_count": 135,
     "metadata": {},
     "output_type": "execute_result"
    }
   ],
   "source": [
    "# gv의 값을 100으로 변경하려면?\n",
    "gv = 10\n",
    "\n",
    "def echo():\n",
    "    global gv # 함수 내에서 전역변수를 참조하고 싶을 때 사용\n",
    "    gv = 100\n",
    "    print(gv)\n",
    "    \n",
    "echo()\n",
    "gv"
   ]
  },
  {
   "cell_type": "markdown",
   "id": "301cade4",
   "metadata": {},
   "source": [
    "### 3. Inner Function\n",
    "- 함수가 지역영역에 선언, 함수 안에 함수가 선언"
   ]
  },
  {
   "cell_type": "code",
   "execution_count": 136,
   "id": "c09b9798",
   "metadata": {},
   "outputs": [],
   "source": [
    "def outer(a, b):\n",
    "    \n",
    "    def inner(c, d): # 이 지역영역 함수는 그 함수 안에서만 사용할 수 있다.\n",
    "        return c + d\n",
    "    \n",
    "    return inner(a, b)"
   ]
  },
  {
   "cell_type": "code",
   "execution_count": 137,
   "id": "0428ca32",
   "metadata": {},
   "outputs": [
    {
     "data": {
      "text/plain": [
       "3"
      ]
     },
     "execution_count": 137,
     "metadata": {},
     "output_type": "execute_result"
    }
   ],
   "source": [
    "outer(1, 2)"
   ]
  },
  {
   "cell_type": "code",
   "execution_count": 138,
   "id": "6a81411f",
   "metadata": {},
   "outputs": [
    {
     "ename": "NameError",
     "evalue": "name 'inner' is not defined",
     "output_type": "error",
     "traceback": [
      "\u001b[1;31m---------------------------------------------------------------------------\u001b[0m",
      "\u001b[1;31mNameError\u001b[0m                                 Traceback (most recent call last)",
      "\u001b[1;32m<ipython-input-138-468e0d571ba5>\u001b[0m in \u001b[0;36m<module>\u001b[1;34m\u001b[0m\n\u001b[1;32m----> 1\u001b[1;33m \u001b[0minner\u001b[0m\u001b[1;33m(\u001b[0m\u001b[1;36m2\u001b[0m\u001b[1;33m,\u001b[0m \u001b[1;36m3\u001b[0m\u001b[1;33m)\u001b[0m\u001b[1;33m\u001b[0m\u001b[1;33m\u001b[0m\u001b[0m\n\u001b[0m",
      "\u001b[1;31mNameError\u001b[0m: name 'inner' is not defined"
     ]
    }
   ],
   "source": [
    "inner(2, 3) # 전역 영역에서 지역 영역에 있는 함수를 사용하려 했기 때문에 실행 안됨"
   ]
  },
  {
   "cell_type": "code",
   "execution_count": 141,
   "id": "5f721438",
   "metadata": {},
   "outputs": [],
   "source": [
    "# inner func를 전역영역에서 쓰고 싶을 땐?\n",
    "def outer(a, b):\n",
    "    \n",
    "    def inner(c, d):\n",
    "        return c + d\n",
    "    \n",
    "    return inner"
   ]
  },
  {
   "cell_type": "code",
   "execution_count": 146,
   "id": "9eaff12e",
   "metadata": {},
   "outputs": [
    {
     "data": {
      "text/plain": [
       "7"
      ]
     },
     "execution_count": 146,
     "metadata": {},
     "output_type": "execute_result"
    }
   ],
   "source": [
    "outer(1, 2)(3, 4) # (1, 2)는 의미가 없음. inner(3, 4)가 실행된 것과 같다.\n",
    "# inner 함수를 return 시키면, 전역영역에서 inner 함수를 사용할 수 있다."
   ]
  },
  {
   "cell_type": "code",
   "execution_count": 147,
   "id": "5f87344c",
   "metadata": {},
   "outputs": [],
   "source": [
    "# Callback function : 함수를 argument parameter로 설정해서 사용"
   ]
  },
  {
   "cell_type": "code",
   "execution_count": 162,
   "id": "34131b8e",
   "metadata": {},
   "outputs": [],
   "source": [
    "def calc(func, a, b):\n",
    "    # code\n",
    "    a **= 2\n",
    "    b **= 2\n",
    "    return func(a, b) # 마지막에 func 호출"
   ]
  },
  {
   "cell_type": "code",
   "execution_count": 149,
   "id": "adda069f",
   "metadata": {},
   "outputs": [],
   "source": [
    "def plus(a, b):\n",
    "    return a + b"
   ]
  },
  {
   "cell_type": "code",
   "execution_count": 150,
   "id": "d646cf29",
   "metadata": {},
   "outputs": [],
   "source": [
    "def minus(a, b):\n",
    "    return a - b"
   ]
  },
  {
   "cell_type": "code",
   "execution_count": 151,
   "id": "fcc82908",
   "metadata": {},
   "outputs": [
    {
     "data": {
      "text/plain": [
       "3"
      ]
     },
     "execution_count": 151,
     "metadata": {},
     "output_type": "execute_result"
    }
   ],
   "source": [
    "calc(plus, 1, 2) # 덧셈"
   ]
  },
  {
   "cell_type": "code",
   "execution_count": 152,
   "id": "25a7a5c6",
   "metadata": {},
   "outputs": [
    {
     "data": {
      "text/plain": [
       "-1"
      ]
     },
     "execution_count": 152,
     "metadata": {},
     "output_type": "execute_result"
    }
   ],
   "source": [
    "calc(minus, 1, 2) # 뺄셈"
   ]
  },
  {
   "cell_type": "markdown",
   "id": "10649814",
   "metadata": {},
   "source": [
    "### 4. Lambda Function\n",
    "- 파라미터를 간단한 계산으로 리턴되는 함수 : 삼항연산"
   ]
  },
  {
   "cell_type": "code",
   "execution_count": 153,
   "id": "89781163",
   "metadata": {},
   "outputs": [],
   "source": [
    "def plus(a, b):\n",
    "    return a + b"
   ]
  },
  {
   "cell_type": "code",
   "execution_count": 154,
   "id": "9dc91c5d",
   "metadata": {},
   "outputs": [
    {
     "data": {
      "text/plain": [
       "3"
      ]
     },
     "execution_count": 154,
     "metadata": {},
     "output_type": "execute_result"
    }
   ],
   "source": [
    "plus(1, 2)"
   ]
  },
  {
   "cell_type": "code",
   "execution_count": 156,
   "id": "ce8afcbd",
   "metadata": {},
   "outputs": [],
   "source": [
    "plus2 = lambda a, b: a + b # 함수를 lambda함수로 표현"
   ]
  },
  {
   "cell_type": "code",
   "execution_count": 157,
   "id": "46a6d6f5",
   "metadata": {},
   "outputs": [
    {
     "data": {
      "text/plain": [
       "5"
      ]
     },
     "execution_count": 157,
     "metadata": {},
     "output_type": "execute_result"
    }
   ],
   "source": [
    "plus2(2, 3)"
   ]
  },
  {
   "cell_type": "code",
   "execution_count": 163,
   "id": "de32c633",
   "metadata": {},
   "outputs": [
    {
     "data": {
      "text/plain": [
       "144"
      ]
     },
     "execution_count": 163,
     "metadata": {},
     "output_type": "execute_result"
    }
   ],
   "source": [
    "# calc(func, a, b)\n",
    "calc(lambda a, b: a * b, 3, 4) # 함수를 따로 선언할 필요 없음 : 저장공간 효율적 사용"
   ]
  },
  {
   "cell_type": "code",
   "execution_count": 164,
   "id": "728ddafa",
   "metadata": {},
   "outputs": [
    {
     "data": {
      "text/plain": [
       "25"
      ]
     },
     "execution_count": 164,
     "metadata": {},
     "output_type": "execute_result"
    }
   ],
   "source": [
    "calc(plus, 3, 4) # 함수가 선언돼야 함 = 저장공간 사용"
   ]
  },
  {
   "cell_type": "markdown",
   "id": "2e7bbcf5",
   "metadata": {},
   "source": [
    "### 5. Map, Filter, Reduce\n",
    "#### map : 순서가 있는 데이터 집합에서 모든 값에 함수를 적용시킨 결과를 출력"
   ]
  },
  {
   "cell_type": "code",
   "execution_count": 165,
   "id": "26fa810f",
   "metadata": {},
   "outputs": [
    {
     "data": {
      "text/plain": [
       "('odd', 'even')"
      ]
     },
     "execution_count": 165,
     "metadata": {},
     "output_type": "execute_result"
    }
   ],
   "source": [
    "ls = [1, 2, 3, 4]\n",
    "\n",
    "def odd_even(num):\n",
    "    return \"odd\" if num % 2 else \"even\"\n",
    "\n",
    "odd_even(3), odd_even(4)"
   ]
  },
  {
   "cell_type": "code",
   "execution_count": 166,
   "id": "0e91f2b8",
   "metadata": {},
   "outputs": [
    {
     "data": {
      "text/plain": [
       "<map at 0x20a3924fb50>"
      ]
     },
     "execution_count": 166,
     "metadata": {},
     "output_type": "execute_result"
    }
   ],
   "source": [
    "map(odd_even, ls)"
   ]
  },
  {
   "cell_type": "code",
   "execution_count": 167,
   "id": "fd4628cc",
   "metadata": {},
   "outputs": [
    {
     "data": {
      "text/plain": [
       "['odd', 'even', 'odd', 'even']"
      ]
     },
     "execution_count": 167,
     "metadata": {},
     "output_type": "execute_result"
    }
   ],
   "source": [
    "list(map(odd_even, ls))"
   ]
  },
  {
   "cell_type": "code",
   "execution_count": 168,
   "id": "69b2de75",
   "metadata": {},
   "outputs": [],
   "source": [
    "# input 함수로 구분자는 \" \"으로 여러개의 숫자를 입력받는다\n",
    "# str.split(\" \") 리스트로 만들고\n",
    "# 만들어진 리스트의 값들을 int 형변환"
   ]
  },
  {
   "cell_type": "code",
   "execution_count": 169,
   "id": "7f533303",
   "metadata": {},
   "outputs": [
    {
     "name": "stdout",
     "output_type": "stream",
     "text": [
      "insert numbers : 10 20 30 40 10 20 15\n"
     ]
    }
   ],
   "source": [
    "# 만약 map()을 모를 경우:\n",
    "datas = input(\"insert numbers : \")"
   ]
  },
  {
   "cell_type": "code",
   "execution_count": 170,
   "id": "866b8308",
   "metadata": {},
   "outputs": [
    {
     "data": {
      "text/plain": [
       "['10', '20', '30', '40', '10', '20', '15']"
      ]
     },
     "execution_count": 170,
     "metadata": {},
     "output_type": "execute_result"
    }
   ],
   "source": [
    "result = datas.split(\" \")\n",
    "result"
   ]
  },
  {
   "cell_type": "code",
   "execution_count": 172,
   "id": "8e9f0743",
   "metadata": {},
   "outputs": [
    {
     "data": {
      "text/plain": [
       "[10, 20, 30, 40, 10, 20, 15]"
      ]
     },
     "execution_count": 172,
     "metadata": {},
     "output_type": "execute_result"
    }
   ],
   "source": [
    "result = list(map(int, result))\n",
    "result"
   ]
  },
  {
   "cell_type": "markdown",
   "id": "fe5270a8",
   "metadata": {},
   "source": [
    "#### Filter\n",
    "- 리스트 데이터에서 특정 조건에 맞는 value만 남기는 함수"
   ]
  },
  {
   "cell_type": "code",
   "execution_count": 174,
   "id": "23763410",
   "metadata": {},
   "outputs": [],
   "source": [
    "ls = range(10)"
   ]
  },
  {
   "cell_type": "code",
   "execution_count": 176,
   "id": "265876de",
   "metadata": {},
   "outputs": [
    {
     "data": {
      "text/plain": [
       "[1, 3, 5, 7, 9]"
      ]
     },
     "execution_count": 176,
     "metadata": {},
     "output_type": "execute_result"
    }
   ],
   "source": [
    "# 홀수만 출력\n",
    "list(filter(lambda data: True if data % 2 else False, ls))"
   ]
  },
  {
   "cell_type": "markdown",
   "id": "af9b0c9e",
   "metadata": {},
   "source": [
    "#### reduce\n",
    "- 리스트 데이터를 처음부터 순서대로 특정 함수를 실행하여 결과를 누적시켜 주는 함수\n",
    "- parameter를 2개 넣어줘야 함"
   ]
  },
  {
   "cell_type": "code",
   "execution_count": 178,
   "id": "cf10c5a0",
   "metadata": {},
   "outputs": [],
   "source": [
    "from functools import reduce"
   ]
  },
  {
   "cell_type": "code",
   "execution_count": 179,
   "id": "4d340053",
   "metadata": {},
   "outputs": [
    {
     "data": {
      "text/plain": [
       "15"
      ]
     },
     "execution_count": 179,
     "metadata": {},
     "output_type": "execute_result"
    }
   ],
   "source": [
    "ls = [3, 1, 2, 4, 5]\n",
    "reduce(lambda x, y: x + y, ls)"
   ]
  },
  {
   "cell_type": "markdown",
   "id": "b48578b3",
   "metadata": {},
   "source": [
    "### 6. decorlator\n",
    "- 함수에서 코드를 바꾸지 않고 기능을 추가하거나 수정하고 싶을 때 사용하는 문법\n",
    "```\n",
    "def a():\n",
    "    code_1\n",
    "    code_2\n",
    "    code_3\n",
    "\n",
    "def b():\n",
    "    code_1\n",
    "    code_4\n",
    "    code_3\n",
    "\n",
    "...20개 : 계속 같은 코드를 여러 함수에 써야 할 경우\n",
    "```\n",
    "```\n",
    "\n"
   ]
  },
  {
   "cell_type": "markdown",
   "id": "8030a1c0",
   "metadata": {},
   "source": [
    "- 데코레이터의 사용\n",
    "```\n",
    "def c(func):\n",
    "    def wrapper(*args, **kwargs):\n",
    "        code_1\n",
    "        result = func(*args, **kwargs) # a()나 b() 실행\n",
    "        code_3\n",
    "        return result\n",
    "    return wrapper\n",
    "```\n",
    "```\n",
    "@c \n",
    "def a():\n",
    "    code_2\n",
    "```\n",
    "```\n",
    "@c\n",
    "def b():\n",
    "    code_4\n",
    "```\n"
   ]
  },
  {
   "cell_type": "code",
   "execution_count": 181,
   "id": "3f6c599a",
   "metadata": {},
   "outputs": [],
   "source": [
    "# a\n",
    "def plus(a, b):\n",
    "    print(\"start\") # code_1\n",
    "    result = a + b # code_2\n",
    "    print(\"result : {}\".format(result)) # code_3\n",
    "    return result"
   ]
  },
  {
   "cell_type": "code",
   "execution_count": 184,
   "id": "d7a5816f",
   "metadata": {},
   "outputs": [
    {
     "name": "stdout",
     "output_type": "stream",
     "text": [
      "start\n",
      "result : 3\n"
     ]
    },
    {
     "data": {
      "text/plain": [
       "3"
      ]
     },
     "execution_count": 184,
     "metadata": {},
     "output_type": "execute_result"
    }
   ],
   "source": [
    "plus(1, 2)"
   ]
  },
  {
   "cell_type": "code",
   "execution_count": 182,
   "id": "79516352",
   "metadata": {},
   "outputs": [],
   "source": [
    "# b\n",
    "def minus(a, b):\n",
    "    print(\"start\") # code_1\n",
    "    result = a - b # code_4\n",
    "    print(\"result : {}\".format(result)) # code_3\n",
    "    return result"
   ]
  },
  {
   "cell_type": "code",
   "execution_count": 185,
   "id": "18edb0aa",
   "metadata": {},
   "outputs": [
    {
     "name": "stdout",
     "output_type": "stream",
     "text": [
      "start\n",
      "result : -1\n"
     ]
    },
    {
     "data": {
      "text/plain": [
       "-1"
      ]
     },
     "execution_count": 185,
     "metadata": {},
     "output_type": "execute_result"
    }
   ],
   "source": [
    "minus(1, 2)"
   ]
  },
  {
   "cell_type": "code",
   "execution_count": 189,
   "id": "e93f59da",
   "metadata": {},
   "outputs": [],
   "source": [
    "# a (code_1, code_3 제외)\n",
    "def plus(a, b):\n",
    "    result = a + b # code_2\n",
    "    return result"
   ]
  },
  {
   "cell_type": "code",
   "execution_count": 190,
   "id": "6ae8bdf1",
   "metadata": {},
   "outputs": [
    {
     "data": {
      "text/plain": [
       "3"
      ]
     },
     "execution_count": 190,
     "metadata": {},
     "output_type": "execute_result"
    }
   ],
   "source": [
    "plus(1, 2)"
   ]
  },
  {
   "cell_type": "code",
   "execution_count": 191,
   "id": "3fe2a41d",
   "metadata": {},
   "outputs": [],
   "source": [
    "# c\n",
    "def disp(func):\n",
    "    def wrapper(*args, **kwargs):\n",
    "        print(\"start\") # code_1\n",
    "        result = func(*args, **kwargs) # code_2, code_4\n",
    "        print(\"result : {}\".format(result)) #code_3\n",
    "        return result\n",
    "            \n",
    "    return wrapper"
   ]
  },
  {
   "cell_type": "code",
   "execution_count": 192,
   "id": "ccc3060c",
   "metadata": {},
   "outputs": [],
   "source": [
    "@disp\n",
    "def plus(a, b):\n",
    "    result = a + b #code_2\n",
    "    return result"
   ]
  },
  {
   "cell_type": "code",
   "execution_count": 193,
   "id": "5e0371d5",
   "metadata": {},
   "outputs": [
    {
     "name": "stdout",
     "output_type": "stream",
     "text": [
      "start\n",
      "result : 3\n"
     ]
    },
    {
     "data": {
      "text/plain": [
       "3"
      ]
     },
     "execution_count": 193,
     "metadata": {},
     "output_type": "execute_result"
    }
   ],
   "source": [
    "plus(1, 2)"
   ]
  },
  {
   "cell_type": "markdown",
   "id": "80e864cd",
   "metadata": {},
   "source": [
    "#### decorlator 예제 : 함수의 실행 시간을 출력하는 데코레이터 함수를 작성하라"
   ]
  },
  {
   "cell_type": "code",
   "execution_count": 195,
   "id": "6477ff39",
   "metadata": {},
   "outputs": [],
   "source": [
    "import time\n",
    "\n",
    "def timer(func):\n",
    "    def wrapper(*args, **kwargs):\n",
    "        start_time = time.time() # code_1\n",
    "        result = func(*args, **kwargs) # code_2, code_4\n",
    "        end_time = time.time() # code_3\n",
    "        print(\"running time : {}\".format(end_time - start_time)) # code_3\n",
    "        return result\n",
    "    return wrapper"
   ]
  },
  {
   "cell_type": "code",
   "execution_count": 196,
   "id": "1bbeeedb",
   "metadata": {},
   "outputs": [],
   "source": [
    "def test1(num1, num2):\n",
    "    data = range(num1, num2+1)\n",
    "    return sum(data)"
   ]
  },
  {
   "cell_type": "code",
   "execution_count": 197,
   "id": "335f5f62",
   "metadata": {},
   "outputs": [],
   "source": [
    "def test2(num1, num2):\n",
    "    result = 0\n",
    "    for num in range(num1, num2+1):\n",
    "        result += num\n",
    "    return result"
   ]
  },
  {
   "cell_type": "code",
   "execution_count": 198,
   "id": "70be9939",
   "metadata": {},
   "outputs": [
    {
     "data": {
      "text/plain": [
       "5000050000"
      ]
     },
     "execution_count": 198,
     "metadata": {},
     "output_type": "execute_result"
    }
   ],
   "source": [
    "test1(1, 100000)"
   ]
  },
  {
   "cell_type": "code",
   "execution_count": 199,
   "id": "025cb228",
   "metadata": {},
   "outputs": [
    {
     "data": {
      "text/plain": [
       "5000050000"
      ]
     },
     "execution_count": 199,
     "metadata": {},
     "output_type": "execute_result"
    }
   ],
   "source": [
    "test2(1, 100000)"
   ]
  },
  {
   "cell_type": "code",
   "execution_count": 200,
   "id": "8ec43acb",
   "metadata": {},
   "outputs": [],
   "source": [
    "# test1에 데코레이터 삽입\n",
    "@timer\n",
    "def test1(num1, num2):\n",
    "    data = range(num1, num2+1)\n",
    "    return sum(data)"
   ]
  },
  {
   "cell_type": "code",
   "execution_count": 201,
   "id": "d6946073",
   "metadata": {},
   "outputs": [],
   "source": [
    "# test2에 데코레이터 삽입\n",
    "@timer\n",
    "def test2(num1, num2):\n",
    "    result = 0\n",
    "    for num in range(num1, num2+1):\n",
    "        result += num\n",
    "    return result"
   ]
  },
  {
   "cell_type": "code",
   "execution_count": 202,
   "id": "8748d82b",
   "metadata": {},
   "outputs": [
    {
     "name": "stdout",
     "output_type": "stream",
     "text": [
      "running time : 0.008081912994384766\n"
     ]
    },
    {
     "data": {
      "text/plain": [
       "5000050000"
      ]
     },
     "execution_count": 202,
     "metadata": {},
     "output_type": "execute_result"
    }
   ],
   "source": [
    "test1(1, 100000)"
   ]
  },
  {
   "cell_type": "code",
   "execution_count": 203,
   "id": "22dbb0d5",
   "metadata": {},
   "outputs": [
    {
     "name": "stdout",
     "output_type": "stream",
     "text": [
      "running time : 0.008082389831542969\n"
     ]
    },
    {
     "data": {
      "text/plain": [
       "5000050000"
      ]
     },
     "execution_count": 203,
     "metadata": {},
     "output_type": "execute_result"
    }
   ],
   "source": [
    "test2(1, 100000)"
   ]
  },
  {
   "cell_type": "markdown",
   "id": "9920dcc8",
   "metadata": {},
   "source": [
    "#### decorlator 예제2 : 패스워드를 입력 받아야 함수가 실행되도록 데코레이터 작성"
   ]
  },
  {
   "cell_type": "code",
   "execution_count": 210,
   "id": "e161f688",
   "metadata": {},
   "outputs": [],
   "source": [
    "def check_password(func):\n",
    "    def wrapper(*args, **kwargs):\n",
    "        pw = \"dss11\"\n",
    "        # check password\n",
    "        input_pw = input(\"insert pw : \")\n",
    "        if input_pw == pw:\n",
    "            result = func(*args, **kwargs)\n",
    "        else:\n",
    "            result = \"access denied\"\n",
    "        return result\n",
    "    return wrapper"
   ]
  },
  {
   "cell_type": "code",
   "execution_count": 204,
   "id": "73654f7e",
   "metadata": {},
   "outputs": [],
   "source": [
    "# 그냥 plus 함수 : 원하는 결과값을 바로 알 수 있음\n",
    "def plus(a, b):\n",
    "    return a + b"
   ]
  },
  {
   "cell_type": "code",
   "execution_count": 205,
   "id": "6aaf51a3",
   "metadata": {},
   "outputs": [
    {
     "data": {
      "text/plain": [
       "3"
      ]
     },
     "execution_count": 205,
     "metadata": {},
     "output_type": "execute_result"
    }
   ],
   "source": [
    "plus(1, 2)"
   ]
  },
  {
   "cell_type": "code",
   "execution_count": 207,
   "id": "e8cf3ab9",
   "metadata": {},
   "outputs": [],
   "source": [
    "# 그냥 lotto 함수 : 원하는 번호를 바로 받을 수 있음\n",
    "def lotto_func():\n",
    "    lotto = []\n",
    "    while True:\n",
    "        number = random.randint(1, 45)\n",
    "        if number not in lotto:\n",
    "            lotto.append(number)\n",
    "        if len(lotto) >= 6:\n",
    "            lotto.sort()\n",
    "            break\n",
    "    return lotto"
   ]
  },
  {
   "cell_type": "code",
   "execution_count": 208,
   "id": "c16e95bb",
   "metadata": {},
   "outputs": [
    {
     "data": {
      "text/plain": [
       "[6, 17, 23, 28, 39, 44]"
      ]
     },
     "execution_count": 208,
     "metadata": {},
     "output_type": "execute_result"
    }
   ],
   "source": [
    "lotto_func()"
   ]
  },
  {
   "cell_type": "code",
   "execution_count": 211,
   "id": "ff9db452",
   "metadata": {},
   "outputs": [],
   "source": [
    "# password 함수와 decolated된 plus 함수 : \"패스워드를 쳐야만\" 원하는 결과값을 얻을 수 있음\n",
    "@check_password\n",
    "def plus_decol(a, b):\n",
    "    return a + b"
   ]
  },
  {
   "cell_type": "code",
   "execution_count": 212,
   "id": "f94b3e18",
   "metadata": {},
   "outputs": [
    {
     "name": "stdout",
     "output_type": "stream",
     "text": [
      "insert pw : dss11\n"
     ]
    },
    {
     "data": {
      "text/plain": [
       "7"
      ]
     },
     "execution_count": 212,
     "metadata": {},
     "output_type": "execute_result"
    }
   ],
   "source": [
    "plus_decol(3, 4)"
   ]
  },
  {
   "cell_type": "code",
   "execution_count": 216,
   "id": "71619956",
   "metadata": {},
   "outputs": [],
   "source": [
    "# password 함수와 decolated된 lotto 함수 : \"패스워드를 쳐야만\" 원하는 번호를 받을 수 있음\n",
    "@check_password\n",
    "def lotto_func_decol():\n",
    "    lotto = []\n",
    "    while True:\n",
    "        number = random.randint(1, 45)\n",
    "        if number not in lotto:\n",
    "            lotto.append(number)\n",
    "        if len(lotto) >= 6:\n",
    "            lotto.sort()\n",
    "            break\n",
    "    return lotto"
   ]
  },
  {
   "cell_type": "code",
   "execution_count": 218,
   "id": "60174ba8",
   "metadata": {},
   "outputs": [
    {
     "name": "stdout",
     "output_type": "stream",
     "text": [
      "insert pw : dss11\n"
     ]
    },
    {
     "data": {
      "text/plain": [
       "[6, 10, 32, 33, 34, 39]"
      ]
     },
     "execution_count": 218,
     "metadata": {},
     "output_type": "execute_result"
    }
   ],
   "source": [
    "lotto_func_decol()"
   ]
  },
  {
   "cell_type": "code",
   "execution_count": null,
   "id": "66350a94",
   "metadata": {},
   "outputs": [],
   "source": []
  }
 ],
 "metadata": {
  "kernelspec": {
   "display_name": "Python 3",
   "language": "python",
   "name": "python3"
  },
  "language_info": {
   "codemirror_mode": {
    "name": "ipython",
    "version": 3
   },
   "file_extension": ".py",
   "mimetype": "text/x-python",
   "name": "python",
   "nbconvert_exporter": "python",
   "pygments_lexer": "ipython3",
   "version": "3.8.8"
  }
 },
 "nbformat": 4,
 "nbformat_minor": 5
}
