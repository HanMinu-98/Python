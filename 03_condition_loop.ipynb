{
 "cells": [
  {
   "cell_type": "markdown",
   "id": "6fa43f06",
   "metadata": {},
   "source": [
    "### 02_summary\n",
    "- jupyter notebook\n",
    "    - mode : 명령모드, 편집모드\n",
    "    - style : markdown, code\n",
    "    - 단축키\n",
    "        - 실행 : shift + enter\n",
    "        - 현재 셀 계속 실행 : ctrl + enter\n",
    "        - 자동완성 : tab\n",
    "        - docstring 보기 : shift + tab\n",
    "        - 주석설정 : ctrl + /\n",
    "        - 셀 생성 : a(위), b(아래)\n",
    "- python 기본 문법\n",
    "    - 변수 선언 : RAM 저장공간에 값을 할당하는 행위\n",
    "    - 식별자 규칙\n",
    "        - 대문자, 소문자, 숫자, ...\n",
    "        - 가장 앞글자 숫자사용 불가\n",
    "        - 예약어 사용 불가 : def, class, try, ...\n",
    "        - snake_case(변수, 함수), CamelCase(클래스)\n",
    "        - pep8 문서 참조\n",
    "    - 데이터 타입\n",
    "        - 동적타이핑 : 자동으로 저장공간의 데이터 타입이 설정됨\n",
    "        - 기본 데이터 타입 : int, float, bool, str\n",
    "        - 컬렉션 데이터 타입 : list, tuple(iterable = 순서가 있는 데이터 집합), dict\n",
    "        - offset index : 특정 위치의 데이터를 출력할 때 사용\n",
    "            - iterable한 데이터 타입에서만 사용이 가능\n",
    "            - [] : mask, masking\n",
    "            - [idx] : idx 위치 데이터를 출력\n",
    "            - [start:end] : start에서 end까지 출력(end는 포함되지 않음)\n",
    "            - [start:end:stride] : stride만큼씩 점프하여 출력\n",
    "        - 각 데이터 타입별로 함수가 있음\n",
    "    - 형변환\n",
    "        - 이미 변수에 설정된 데이터 타입을 변경하는 행위\n",
    "        - zip()\n",
    "            - 여러개의 리스트를 같은 인덱스끼리 묶어주는 함수\n",
    "            - 두 개의 list를 묶어서 dict로 형변환\n",
    "    - 연산자\n",
    "        - 산술 : +, -, *, /, //, %, **\n",
    "        - 할당 : A (산술)= (data)\n",
    "        - 비교 : <, >, ==, !=, <=, >=\n",
    "        - 논리 : and, or, not\n",
    "        - 멤버 : in, not in"
   ]
  },
  {
   "cell_type": "markdown",
   "id": "f43dbeab",
   "metadata": {},
   "source": [
    "### 1. 조건문\n",
    "- 특정 조건에 따라서 코드를 실행하고자 할때 사용\n",
    "- if, else, elif"
   ]
  },
  {
   "cell_type": "code",
   "execution_count": 1,
   "id": "d3a9ae9d",
   "metadata": {},
   "outputs": [
    {
     "name": "stdout",
     "output_type": "stream",
     "text": [
      "done\n"
     ]
    }
   ],
   "source": [
    "# 조건부분에 : bool 데이터 타입 이외의 데이터 타입이 오면 bool으로 형변환되어 판단\n",
    "\n",
    "if False:\n",
    "    print(\"python\")\n",
    "# 다른 언어들은 괄호 {}를 사용하지만, python에선 안써도 된다. 대신 indent를 잘 지켜야 한다.\n",
    "    \n",
    "print(\"done\")"
   ]
  },
  {
   "cell_type": "code",
   "execution_count": 2,
   "id": "0b2e95e3",
   "metadata": {},
   "outputs": [
    {
     "data": {
      "text/plain": [
       "(False, True, True, True)"
      ]
     },
     "execution_count": 2,
     "metadata": {},
     "output_type": "execute_result"
    }
   ],
   "source": [
    "# int : 0을 제외한 나머지 값은 True\n",
    "bool(0), bool(1), bool(-1), bool(100)"
   ]
  },
  {
   "cell_type": "code",
   "execution_count": 3,
   "id": "fdac4bbc",
   "metadata": {},
   "outputs": [
    {
     "name": "stdout",
     "output_type": "stream",
     "text": [
      "python_2\n"
     ]
    }
   ],
   "source": [
    "num = 0\n",
    "\n",
    "if num:\n",
    "    print(\"python_1\")\n",
    "\n",
    "num = 1\n",
    "\n",
    "if num:\n",
    "    print(\"python_2\")\n",
    "    "
   ]
  },
  {
   "cell_type": "code",
   "execution_count": 4,
   "id": "e5c708aa",
   "metadata": {},
   "outputs": [
    {
     "name": "stdout",
     "output_type": "stream",
     "text": [
      "홀수\n"
     ]
    }
   ],
   "source": [
    "number = 7\n",
    "\n",
    "if number % 2:\n",
    "    print(\"홀수\")"
   ]
  },
  {
   "cell_type": "code",
   "execution_count": 5,
   "id": "2ef8e73d",
   "metadata": {},
   "outputs": [],
   "source": [
    "# float : 0.0을 제외한 나머지 실수는 True\n",
    "# str : \"\"을 제외한 나머지 문자열은 True\n",
    "# list, tuple, dict : [], (), {}룰 제외한 나머지는 True"
   ]
  },
  {
   "cell_type": "markdown",
   "id": "874e0385",
   "metadata": {},
   "source": [
    "#### 조건문 문제1 :\n",
    "- 지갑에 돈이 10000원 이상 있으면 택시를 탄다\n",
    "- 2000원 이상, 10000원 미만이면 버스를 탄다\n",
    "- 그렇지 않으면 걸어서 집에 간다."
   ]
  },
  {
   "cell_type": "code",
   "execution_count": 7,
   "id": "7ec1a5c6",
   "metadata": {},
   "outputs": [
    {
     "name": "stdout",
     "output_type": "stream",
     "text": [
      "택시를 타고 집에 갑니다.\n"
     ]
    }
   ],
   "source": [
    "money = 12000\n",
    "\n",
    "if money >= 10000:\n",
    "    print(\"택시를 타고 집에 갑니다.\")\n",
    "\n",
    "if money <10000:\n",
    "    print(\"걸어서 집에 갑니다.\") # 굳이 if를 계속 반복할 필요가 없다"
   ]
  },
  {
   "cell_type": "code",
   "execution_count": 9,
   "id": "231b1810",
   "metadata": {},
   "outputs": [
    {
     "name": "stdout",
     "output_type": "stream",
     "text": [
      "택시를 타고 집에 갑니다.\n"
     ]
    }
   ],
   "source": [
    "if money >= 10000:\n",
    "    print(\"택시를 타고 집에 갑니다.\")\n",
    "elif money >= 2000:\n",
    "    print(\"버스를 타고 집에 갑니다.\")\n",
    "else:\n",
    "    print(\"걸어서 집에 갑니다.\")"
   ]
  },
  {
   "cell_type": "markdown",
   "id": "210ad7ec",
   "metadata": {},
   "source": [
    "#### 조건문 문제2 :\n",
    "- 계좌에 10000원이 들어 있습니다.\n",
    "- 인출 금액을 입력 받습니다.\n",
    "- 인출 금액이 계좌에 있는 금액보다 크면 \"인출이 불가능합니다.\" 출력\n",
    "- 인출 금액이 계좌에 있는 금액보다 작으면 \"인출 되었습니다,\" 출력\n",
    "- 마지막에 핸재 계좌의 잔액을 출력"
   ]
  },
  {
   "cell_type": "code",
   "execution_count": 21,
   "id": "4a8f1c30",
   "metadata": {},
   "outputs": [
    {
     "name": "stdout",
     "output_type": "stream",
     "text": [
      "draw money : 4000\n",
      "인출 되었습니다.\n",
      "현재 잔액은 6000 원 입니다.\n"
     ]
    }
   ],
   "source": [
    "# 내 풀이\n",
    "data = input(\"draw money : \")\n",
    "money = 10000 - int(data)\n",
    "\n",
    "if mon <= 0:\n",
    "    print(\"인출이 불가능합니다.\")\n",
    "else:\n",
    "    print(\"인출 되었습니다.\")\n",
    "    \n",
    "print(\"현재 잔액은\",money,\"원 입니다.\") \n",
    "\n",
    "# print()에서 (,)와 (+)의 기능은 같다. \n",
    "# 그런데 (,)는 형변환을 안해도 print 함수가 작동하는 반면, (+)는 error를 일으키므로 \"형변환\"을 꼭 해야만 한다 "
   ]
  },
  {
   "cell_type": "code",
   "execution_count": 18,
   "id": "394161a2",
   "metadata": {},
   "outputs": [
    {
     "name": "stdout",
     "output_type": "stream",
     "text": [
      "insert draw money : 2000\n",
      "2000원이 인출 되었습니다.\n",
      "현재 잔액은 8000원 입니다.\n"
     ]
    }
   ],
   "source": [
    "# 풀이\n",
    "account = 10000\n",
    "draw_money = int(input(\"insert draw money : \"))\n",
    "\n",
    "if account >= draw_money:\n",
    "    account -= draw_money\n",
    "    print(str(draw_money) + \"원이 인출 되었습니다.\")\n",
    "else:\n",
    "    print(\"인출이 불가능합니다. \" + str(draw_money - account) + \"원의 잔액이 부족합니다.\")\n",
    "    \n",
    "print(\"현재 잔액은 \" + str(account) + \"원 입니다.\") # 그런데 매번 str로 형변환 하는게 귀찮다?"
   ]
  },
  {
   "cell_type": "code",
   "execution_count": 20,
   "id": "2971416c",
   "metadata": {},
   "outputs": [
    {
     "ename": "TypeError",
     "evalue": "can only concatenate str (not \"int\") to str",
     "output_type": "error",
     "traceback": [
      "\u001b[1;31m---------------------------------------------------------------------------\u001b[0m",
      "\u001b[1;31mTypeError\u001b[0m                                 Traceback (most recent call last)",
      "\u001b[1;32m<ipython-input-20-c35c01cb5e84>\u001b[0m in \u001b[0;36m<module>\u001b[1;34m\u001b[0m\n\u001b[0;32m      1\u001b[0m \u001b[1;31m# string 데이터 타입의 format 함수\u001b[0m\u001b[1;33m\u001b[0m\u001b[1;33m\u001b[0m\u001b[1;33m\u001b[0m\u001b[0m\n\u001b[1;32m----> 2\u001b[1;33m \u001b[0mprint\u001b[0m\u001b[1;33m(\u001b[0m\u001b[1;34m\"현재 잔액은\"\u001b[0m \u001b[1;33m+\u001b[0m \u001b[0maccount\u001b[0m \u001b[1;33m+\u001b[0m \u001b[1;34m\"원 입니다.\"\u001b[0m\u001b[1;33m)\u001b[0m\u001b[1;33m\u001b[0m\u001b[1;33m\u001b[0m\u001b[0m\n\u001b[0m",
      "\u001b[1;31mTypeError\u001b[0m: can only concatenate str (not \"int\") to str"
     ]
    }
   ],
   "source": [
    "# string 데이터 타입의 format 함수\n",
    "print(\"현재 잔액은\" + account + \"원 입니다.\") # account -> str(account)로 형변환 해야 함. 귀찮음"
   ]
  },
  {
   "cell_type": "code",
   "execution_count": 24,
   "id": "1757f0ce",
   "metadata": {},
   "outputs": [
    {
     "name": "stdout",
     "output_type": "stream",
     "text": [
      "현재 잔액은 8000 원 입니다.\n",
      "현재 잔액은 8000 원 입니다. 인출금액은 2000 입니다.\n",
      "현재 잔액은 8000 원 입니다. 인출금액은 2000 입니다.\n"
     ]
    }
   ],
   "source": [
    "# string 데이터 타입의 format 함수 : .format(variable)\n",
    "\n",
    "print(\"현재 잔액은 \" + str(account) + \" 원 입니다.\") # 형변환을 하거나\n",
    "# string 데이터 타입 format 함수를 사용한다 : {}에 해당 변수가 입력된다\n",
    "print(\"현재 잔액은 {} 원 입니다. 인출금액은 {} 입니다.\".format(account, draw_money))\n",
    "print(\"현재 잔액은 {data1} 원 입니다. 인출금액은 {data2} 입니다.\".format(data1 = account, data2 = draw_money))"
   ]
  },
  {
   "cell_type": "markdown",
   "id": "585a0aae",
   "metadata": {},
   "source": [
    "### 삼항연산자\n",
    "- 간단한 if, else 구문을 한 줄의 코드로 표현할 수 있는 방법\n",
    "- (True) if (condition) else (False)"
   ]
  },
  {
   "cell_type": "code",
   "execution_count": 25,
   "id": "b42e5a17",
   "metadata": {},
   "outputs": [
    {
     "name": "stdout",
     "output_type": "stream",
     "text": [
      "not zero\n"
     ]
    }
   ],
   "source": [
    "# data 변수에 0이면, \"zero\" 출력, 아니면 \"not zero\" 출력\n",
    "\n",
    "data = 1\n",
    "\n",
    "if data:\n",
    "    print(\"not zero\")\n",
    "else:\n",
    "    print(\"zero\")"
   ]
  },
  {
   "cell_type": "code",
   "execution_count": 27,
   "id": "9ddc9995",
   "metadata": {},
   "outputs": [
    {
     "data": {
      "text/plain": [
       "'zero'"
      ]
     },
     "execution_count": 27,
     "metadata": {},
     "output_type": "execute_result"
    }
   ],
   "source": [
    "data = 0\n",
    "result = \"not zero\" if data else \"zero\"\n",
    "result"
   ]
  },
  {
   "cell_type": "markdown",
   "id": "570631b0",
   "metadata": {},
   "source": [
    "### 2. 반복문\n",
    "- 반복되는 코드를 실행할 때 사용\n",
    "- while, for, break, continue\n",
    "- list comprehention"
   ]
  },
  {
   "cell_type": "markdown",
   "id": "86fd1efb",
   "metadata": {},
   "source": [
    "#### while"
   ]
  },
  {
   "cell_type": "code",
   "execution_count": 29,
   "id": "62d340ce",
   "metadata": {},
   "outputs": [
    {
     "name": "stdout",
     "output_type": "stream",
     "text": [
      "3\n",
      "2\n",
      "1\n"
     ]
    }
   ],
   "source": [
    "# while\n",
    "data = 3\n",
    "\n",
    "while data: # 조건이 False가 될때까지 구문의 코드를 실행\n",
    "    print(data)\n",
    "    data -= 1"
   ]
  },
  {
   "cell_type": "markdown",
   "id": "9c8e24dc",
   "metadata": {},
   "source": [
    "#### 반복문 문제1 :\n",
    "- 학생이 국어:80점, 영어:90점, 수학:100점 while 문을 이용하여 총점과 평균을 출력\n",
    "- 학생의 점수는 list, dict 표현\n",
    "- len(), dict.values(), list.pop()"
   ]
  },
  {
   "cell_type": "code",
   "execution_count": 31,
   "id": "719ac3d7",
   "metadata": {},
   "outputs": [],
   "source": [
    "subjects_ls = [\"korean\", \"english\", \"math\"]\n",
    "points_ls = [80, 90, 100]\n",
    "points_dict = {\"korean\": 80, \"english\": 90, \"math\": 100}"
   ]
  },
  {
   "cell_type": "code",
   "execution_count": 37,
   "id": "3723e4b1",
   "metadata": {},
   "outputs": [
    {
     "data": {
      "text/plain": [
       "(270, 90.0)"
      ]
     },
     "execution_count": 37,
     "metadata": {},
     "output_type": "execute_result"
    }
   ],
   "source": [
    "# 풀이\n",
    "total, avg = 0, 0\n",
    "datas = points_ls.copy() # 깊은 복사 : 원본데이터를 보존\n",
    "\n",
    "while datas:\n",
    "    total += datas.pop()\n",
    "avg = total / len(points_ls)\n",
    "total, avg"
   ]
  },
  {
   "cell_type": "code",
   "execution_count": 38,
   "id": "8374e2dd",
   "metadata": {},
   "outputs": [
    {
     "ename": "KeyboardInterrupt",
     "evalue": "",
     "output_type": "error",
     "traceback": [
      "\u001b[1;31m---------------------------------------------------------------------------\u001b[0m",
      "\u001b[1;31mKeyboardInterrupt\u001b[0m                         Traceback (most recent call last)",
      "\u001b[1;32m<ipython-input-38-5617fd23644d>\u001b[0m in \u001b[0;36m<module>\u001b[1;34m\u001b[0m\n\u001b[0;32m      2\u001b[0m \u001b[0mresult\u001b[0m \u001b[1;33m=\u001b[0m \u001b[1;36m1\u001b[0m\u001b[1;33m\u001b[0m\u001b[1;33m\u001b[0m\u001b[0m\n\u001b[0;32m      3\u001b[0m \u001b[1;32mwhile\u001b[0m \u001b[0mresult\u001b[0m\u001b[1;33m:\u001b[0m\u001b[1;33m\u001b[0m\u001b[1;33m\u001b[0m\u001b[0m\n\u001b[1;32m----> 4\u001b[1;33m     \u001b[0mresult\u001b[0m \u001b[1;33m+=\u001b[0m \u001b[1;36m1\u001b[0m\u001b[1;33m\u001b[0m\u001b[1;33m\u001b[0m\u001b[0m\n\u001b[0m\u001b[0;32m      5\u001b[0m \u001b[0mprint\u001b[0m\u001b[1;33m(\u001b[0m\u001b[0mresult\u001b[0m\u001b[1;33m)\u001b[0m\u001b[1;33m\u001b[0m\u001b[1;33m\u001b[0m\u001b[0m\n",
      "\u001b[1;31mKeyboardInterrupt\u001b[0m: "
     ]
    }
   ],
   "source": [
    "# 무한루프\n",
    "result = 1\n",
    "while result:\n",
    "    result += 1 # 이렇게 하면 False가 나오지 않음\n",
    "print(result) "
   ]
  },
  {
   "cell_type": "code",
   "execution_count": 39,
   "id": "dfacf209",
   "metadata": {},
   "outputs": [
    {
     "name": "stdout",
     "output_type": "stream",
     "text": [
      "10\n"
     ]
    }
   ],
   "source": [
    "# 무한루프\n",
    "# break : 반복문을 중단 시킬 때 사용되는 예약어\n",
    "result = 1\n",
    "while result:\n",
    "    \n",
    "    if result >= 10:\n",
    "        break\n",
    "    \n",
    "    result += 1\n",
    "    \n",
    "print(result)"
   ]
  },
  {
   "cell_type": "markdown",
   "id": "3d5c9c37",
   "metadata": {},
   "source": [
    "#### for\n",
    "- iterable한 값을 하나씩 꺼내서 value에 대입시킨 후 코드를 iterable 변수의 값 갯수만큼 실행\n",
    "```\n",
    "for <variable> in <iterables>\n",
    "    <code>\n",
    "```"
   ]
  },
  {
   "cell_type": "code",
   "execution_count": 41,
   "id": "a1035118",
   "metadata": {},
   "outputs": [
    {
     "name": "stdout",
     "output_type": "stream",
     "text": [
      "0\n",
      "1\n",
      "2\n",
      "3\n",
      "4\n"
     ]
    }
   ],
   "source": [
    "# for : continue : 조건부분으로 올라가서 코드가 실행\n",
    "ls = [0, 1, 2, 3, 4]\n",
    "for data in ls:\n",
    "    print(data)"
   ]
  },
  {
   "cell_type": "code",
   "execution_count": 43,
   "id": "baac1b75",
   "metadata": {},
   "outputs": [
    {
     "name": "stdout",
     "output_type": "stream",
     "text": [
      "0 2 4 "
     ]
    }
   ],
   "source": [
    "ls = [0, 1, 2, 3, 4]\n",
    "for data in ls:\n",
    "    \n",
    "    if data % 2: # data가 홀수가 되면 continue 실행\n",
    "        continue\n",
    "        \n",
    "    # data가 짝수이면 print 실행\n",
    "    print(data, end=\" \")"
   ]
  },
  {
   "cell_type": "code",
   "execution_count": 44,
   "id": "91ceb799",
   "metadata": {},
   "outputs": [
    {
     "data": {
      "text/plain": [
       "4950"
      ]
     },
     "execution_count": 44,
     "metadata": {},
     "output_type": "execute_result"
    }
   ],
   "source": [
    "# for를 이용하여 코드를 100번 실행\n",
    "# range 함수\n",
    "list(range(100)) # range 함수는 다른 데이터 타입이기 때문에 list로 형변환 해줘야 한다\n",
    "result = 0\n",
    "\n",
    "for data in range(100):\n",
    "    result += data\n",
    "\n",
    "result"
   ]
  },
  {
   "cell_type": "code",
   "execution_count": 45,
   "id": "e5f50cc5",
   "metadata": {},
   "outputs": [
    {
     "data": {
      "text/plain": [
       "range(0, 100)"
      ]
     },
     "execution_count": 45,
     "metadata": {},
     "output_type": "execute_result"
    }
   ],
   "source": [
    "range(100)"
   ]
  },
  {
   "cell_type": "code",
   "execution_count": 48,
   "id": "f7d0696c",
   "metadata": {},
   "outputs": [
    {
     "data": {
      "text/plain": [
       "([0, 1, 2, 3, 4], [5, 6, 7, 8, 9], [0, 2, 4, 6, 8])"
      ]
     },
     "execution_count": 48,
     "metadata": {},
     "output_type": "execute_result"
    }
   ],
   "source": [
    "# offset index 개념과 비슷하게 사용\n",
    "list(range(5)), list(range(5, 10)), list(range(0, 10, 2))"
   ]
  },
  {
   "cell_type": "code",
   "execution_count": 49,
   "id": "d5fe89af",
   "metadata": {},
   "outputs": [
    {
     "data": {
      "text/plain": [
       "30"
      ]
     },
     "execution_count": 49,
     "metadata": {},
     "output_type": "execute_result"
    }
   ],
   "source": [
    "# 0~10 까지 짝수를 더한 총합\n",
    "result = 0\n",
    "for number in range(0, 11, 2):\n",
    "    result += number\n",
    "result"
   ]
  },
  {
   "cell_type": "code",
   "execution_count": 50,
   "id": "0344d811",
   "metadata": {},
   "outputs": [],
   "source": [
    "points_dict = {\"korean\": 80, \"english\": 90, \"math\": 100}"
   ]
  },
  {
   "cell_type": "code",
   "execution_count": 51,
   "id": "d6472fb3",
   "metadata": {},
   "outputs": [
    {
     "name": "stdout",
     "output_type": "stream",
     "text": [
      "korean\n",
      "english\n",
      "math\n"
     ]
    }
   ],
   "source": [
    "for data in points_dict: # dict 데이터 타입을 for문에 넣을 경우엔 key 값만 출력됨\n",
    "    print(data)"
   ]
  },
  {
   "cell_type": "code",
   "execution_count": 52,
   "id": "52d96075",
   "metadata": {},
   "outputs": [
    {
     "data": {
      "text/plain": [
       "[('korean', 80), ('english', 90), ('math', 100)]"
      ]
     },
     "execution_count": 52,
     "metadata": {},
     "output_type": "execute_result"
    }
   ],
   "source": [
    "# dict 데이터 타입의 함수 items() : dict 데이터 타입의 key값과 value값을 묶어줌\n",
    "list(points_dict.items())"
   ]
  },
  {
   "cell_type": "code",
   "execution_count": 53,
   "id": "9d17a02d",
   "metadata": {},
   "outputs": [
    {
     "name": "stdout",
     "output_type": "stream",
     "text": [
      "korean 80\n",
      "english 90\n",
      "math 100\n"
     ]
    }
   ],
   "source": [
    "for subject, points in points_dict.items():\n",
    "    print(subject, points)"
   ]
  },
  {
   "cell_type": "code",
   "execution_count": 58,
   "id": "e1d74c5a",
   "metadata": {},
   "outputs": [
    {
     "data": {
      "text/plain": [
       "[('korean', 80), ('english', 90), ('math', 100)]"
      ]
     },
     "execution_count": 58,
     "metadata": {},
     "output_type": "execute_result"
    }
   ],
   "source": [
    "list(zip(subjects_ls, points_ls))"
   ]
  },
  {
   "cell_type": "code",
   "execution_count": 57,
   "id": "bbe4f66d",
   "metadata": {},
   "outputs": [
    {
     "name": "stdout",
     "output_type": "stream",
     "text": [
      "korean 80\n",
      "english 90\n",
      "math 100\n"
     ]
    }
   ],
   "source": [
    "# for문에서 iterable 데이터가 tuple로 나오면 여러개의 변수로 받을 수 있다. dictionary같이 item()함수로 안묶어줘도 됨\n",
    "subjects_ls = [\"korean\", \"english\", \"math\"]\n",
    "point_ls = [80, 90, 100]\n",
    "for subject, point in zip(subjects_ls, points_ls):\n",
    "    print(subject, point)"
   ]
  },
  {
   "cell_type": "code",
   "execution_count": 55,
   "id": "6331f993",
   "metadata": {},
   "outputs": [
    {
     "data": {
      "text/plain": [
       "(1, 2)"
      ]
     },
     "execution_count": 55,
     "metadata": {},
     "output_type": "execute_result"
    }
   ],
   "source": [
    "# tuple\n",
    "a, b = (1, 2)\n",
    "a, b"
   ]
  },
  {
   "cell_type": "markdown",
   "id": "39b9660f",
   "metadata": {},
   "source": [
    "#### 반복문 문제2 : 구구단 출력(가로 출력)\n",
    "- 이중 for문\n",
    "- print : end=\"\\t\"\n",
    "- string : format\n",
    "```\n",
    "2*1=2  3*1=3  ...  9*1=9\n",
    "...\n",
    "2*9=18 3*9=27 ...  9*9=81\n",
    "```\n"
   ]
  },
  {
   "cell_type": "code",
   "execution_count": 85,
   "id": "dbe8252b",
   "metadata": {},
   "outputs": [
    {
     "name": "stdout",
     "output_type": "stream",
     "text": [
      "1*1=1\t2*1=2\t3*1=3\t4*1=4\t5*1=5\t6*1=6\t7*1=7\t8*1=8\t9*1=9\t\n",
      "\n",
      "1*2=2\t2*2=4\t3*2=6\t4*2=8\t5*2=10\t6*2=12\t7*2=14\t8*2=16\t9*2=18\t\n",
      "\n",
      "1*3=3\t2*3=6\t3*3=9\t4*3=12\t5*3=15\t6*3=18\t7*3=21\t8*3=24\t9*3=27\t\n",
      "\n",
      "1*4=4\t2*4=8\t3*4=12\t4*4=16\t5*4=20\t6*4=24\t7*4=28\t8*4=32\t9*4=36\t\n",
      "\n",
      "1*5=5\t2*5=10\t3*5=15\t4*5=20\t5*5=25\t6*5=30\t7*5=35\t8*5=40\t9*5=45\t\n",
      "\n",
      "1*6=6\t2*6=12\t3*6=18\t4*6=24\t5*6=30\t6*6=36\t7*6=42\t8*6=48\t9*6=54\t\n",
      "\n",
      "1*7=7\t2*7=14\t3*7=21\t4*7=28\t5*7=35\t6*7=42\t7*7=49\t8*7=56\t9*7=63\t\n",
      "\n",
      "1*8=8\t2*8=16\t3*8=24\t4*8=32\t5*8=40\t6*8=48\t7*8=56\t8*8=64\t9*8=72\t\n",
      "\n",
      "1*9=9\t2*9=18\t3*9=27\t4*9=36\t5*9=45\t6*9=54\t7*9=63\t8*9=72\t9*9=81\t\n",
      "\n"
     ]
    }
   ],
   "source": [
    "# 내 풀이\n",
    "\n",
    "cols_ls = [range(1, 10)]\n",
    "rows_ls = [range(1, 10)]\n",
    "\n",
    "for col in range(1,10):\n",
    "    for row in range(1, 10):\n",
    "        print(\"{}*{}={}\".format(row, col, col*row), end=\"\\t\")\n",
    "        \n",
    "    print(\"\\n\")\n",
    "    \n",
    "    \n",
    "    "
   ]
  },
  {
   "cell_type": "code",
   "execution_count": 86,
   "id": "10e26613",
   "metadata": {},
   "outputs": [
    {
     "name": "stdout",
     "output_type": "stream",
     "text": [
      "2*1=2\t3*1=3\t4*1=4\t5*1=5\t6*1=6\t7*1=7\t8*1=8\t9*1=9\t\n",
      "2*2=4\t3*2=6\t4*2=8\t5*2=10\t6*2=12\t7*2=14\t8*2=16\t9*2=18\t\n",
      "2*3=6\t3*3=9\t4*3=12\t5*3=15\t6*3=18\t7*3=21\t8*3=24\t9*3=27\t\n",
      "2*4=8\t3*4=12\t4*4=16\t5*4=20\t6*4=24\t7*4=28\t8*4=32\t9*4=36\t\n",
      "2*5=10\t3*5=15\t4*5=20\t5*5=25\t6*5=30\t7*5=35\t8*5=40\t9*5=45\t\n",
      "2*6=12\t3*6=18\t4*6=24\t5*6=30\t6*6=36\t7*6=42\t8*6=48\t9*6=54\t\n",
      "2*7=14\t3*7=21\t4*7=28\t5*7=35\t6*7=42\t7*7=49\t8*7=56\t9*7=63\t\n",
      "2*8=16\t3*8=24\t4*8=32\t5*8=40\t6*8=48\t7*8=56\t8*8=64\t9*8=72\t\n",
      "2*9=18\t3*9=27\t4*9=36\t5*9=45\t6*9=54\t7*9=63\t8*9=72\t9*9=81\t\n"
     ]
    }
   ],
   "source": [
    "# 풀이\n",
    "for num2 in range(1, 10):\n",
    "    for num1 in range(2, 10):\n",
    "        print(\"{}*{}={}\".format(num1, num2, num1*num2), end=\"\\t\")\n",
    "    print()"
   ]
  },
  {
   "cell_type": "markdown",
   "id": "6fb5591b",
   "metadata": {},
   "source": [
    "### 3. List Comprehention\n",
    "- 리스트 데이터를 만들어주는 방법\n",
    "- for문 보다 빠르게 동작함 (for문의 2/3 시간이 걸림)"
   ]
  },
  {
   "cell_type": "code",
   "execution_count": 89,
   "id": "7a739864",
   "metadata": {},
   "outputs": [
    {
     "data": {
      "text/plain": [
       "[0, 1, 4, 9]"
      ]
     },
     "execution_count": 89,
     "metadata": {},
     "output_type": "execute_result"
    }
   ],
   "source": [
    "# 각 값에 제곱함 결과 출력\n",
    "ls = [0, 1, 2, 3]\n",
    "result = []\n",
    "\n",
    "for data in ls:\n",
    "    result.append(data**2)\n",
    "    \n",
    "result"
   ]
  },
  {
   "cell_type": "code",
   "execution_count": 91,
   "id": "46f5ba41",
   "metadata": {},
   "outputs": [
    {
     "data": {
      "text/plain": [
       "[0, 1, 4, 9]"
      ]
     },
     "execution_count": 91,
     "metadata": {},
     "output_type": "execute_result"
    }
   ],
   "source": [
    "result = [data**2 for data in ls]\n",
    "result"
   ]
  },
  {
   "cell_type": "code",
   "execution_count": 92,
   "id": "d64c7221",
   "metadata": {},
   "outputs": [
    {
     "data": {
      "text/plain": [
       "['짝수', '홀수', '짝수', '홀수']"
      ]
     },
     "execution_count": 92,
     "metadata": {},
     "output_type": "execute_result"
    }
   ],
   "source": [
    "# 리스트 컴프리헨션을 써서 홀수와 짝수를 리스트로 출력해주는 코드\n",
    "# 삼항연산 사용\n",
    "ls = [0, 1, 2, 3]\n",
    "# result = [\"짝수\", \"홀수\", \"짝수\", \"홀수\"]\n",
    "\n",
    "result = [\n",
    "    \"홀수\" if data % 2 else \"짝수\"\n",
    "    for data in ls\n",
    "]\n",
    "result"
   ]
  },
  {
   "cell_type": "code",
   "execution_count": 93,
   "id": "f0602433",
   "metadata": {},
   "outputs": [
    {
     "data": {
      "text/plain": [
       "[1, 3, 5, 7, 9]"
      ]
     },
     "execution_count": 93,
     "metadata": {},
     "output_type": "execute_result"
    }
   ],
   "source": [
    "# 리스트 컴프리헨션 조건문\n",
    "ls = range(10)\n",
    "[data for data in ls if data % 2]"
   ]
  },
  {
   "cell_type": "code",
   "execution_count": 97,
   "id": "f969f8f2",
   "metadata": {},
   "outputs": [
    {
     "data": {
      "text/plain": [
       "['clear', 'copy', 'count']"
      ]
     },
     "execution_count": 97,
     "metadata": {},
     "output_type": "execute_result"
    }
   ],
   "source": [
    "ls = [1, 2, 3]\n",
    "[func for func in dir(ls) if func[:2] != \"__\" and func[0] == \"c\"]"
   ]
  },
  {
   "cell_type": "code",
   "execution_count": 98,
   "id": "8e2427cf",
   "metadata": {},
   "outputs": [],
   "source": [
    "# for문과 list comprehention 성능 비교"
   ]
  },
  {
   "cell_type": "code",
   "execution_count": 106,
   "id": "2d44be50",
   "metadata": {},
   "outputs": [
    {
     "name": "stdout",
     "output_type": "stream",
     "text": [
      "1.5 ms ± 5.1 µs per loop (mean ± std. dev. of 7 runs, 1000 loops each)\n"
     ]
    }
   ],
   "source": [
    "%%timeit\n",
    "ls = []\n",
    "for num in range(1,10001):\n",
    "    if num % 3 == 0:\n",
    "        ls.append(num)\n",
    "len(ls)"
   ]
  },
  {
   "cell_type": "code",
   "execution_count": 107,
   "id": "5ea8ed1d",
   "metadata": {},
   "outputs": [
    {
     "name": "stdout",
     "output_type": "stream",
     "text": [
      "1.29 ms ± 7.72 µs per loop (mean ± std. dev. of 7 runs, 1000 loops each)\n"
     ]
    }
   ],
   "source": [
    "%%timeit\n",
    "ls = [num for num in range(1, 10001) if num % 3 == 0]\n",
    "len(ls)"
   ]
  },
  {
   "cell_type": "code",
   "execution_count": null,
   "id": "cb506cdd",
   "metadata": {},
   "outputs": [],
   "source": []
  }
 ],
 "metadata": {
  "kernelspec": {
   "display_name": "Python 3",
   "language": "python",
   "name": "python3"
  },
  "language_info": {
   "codemirror_mode": {
    "name": "ipython",
    "version": 3
   },
   "file_extension": ".py",
   "mimetype": "text/x-python",
   "name": "python",
   "nbconvert_exporter": "python",
   "pygments_lexer": "ipython3",
   "version": "3.8.8"
  }
 },
 "nbformat": 4,
 "nbformat_minor": 5
}
